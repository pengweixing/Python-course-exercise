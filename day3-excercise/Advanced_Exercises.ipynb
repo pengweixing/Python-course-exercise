{
 "cells": [
  {
   "cell_type": "code",
   "execution_count": 4,
   "id": "dc021c92",
   "metadata": {},
   "outputs": [],
   "source": [
    "import numpy as np"
   ]
  },
  {
   "cell_type": "markdown",
   "id": "169ad8a2",
   "metadata": {},
   "source": [
    "## Given a list of XYZ-coordinates, p,"
   ]
  },
  {
   "cell_type": "code",
   "execution_count": 5,
   "id": "ead8903f",
   "metadata": {},
   "outputs": [],
   "source": [
    "p = np.array([[1.0, 2.0, 10],\n",
    "              [3.0, 4.0, 20],\n",
    "              [5.0, 6.0, 30],\n",
    "              [7.0, 8.0, 40]])"
   ]
  },
  {
   "cell_type": "markdown",
   "id": "50eadf66",
   "metadata": {},
   "source": [
    "## Normalise each coordinate by dividing with its Z (3rd) element. For example, the first row becomes:"
   ]
  },
  {
   "cell_type": "code",
   "execution_count": 6,
   "id": "0aa29d60",
   "metadata": {},
   "outputs": [
    {
     "name": "stdout",
     "output_type": "stream",
     "text": [
      "[[0.1        0.2        1.        ]\n",
      " [0.15       0.2        1.        ]\n",
      " [0.16666667 0.2        1.        ]\n",
      " [0.175      0.2        1.        ]]\n"
     ]
    }
   ],
   "source": [
    "z = p[:, 2]  \n",
    "z = z.reshape(-1, 1)\n",
    "normalized_p = p / z \n",
    "print(normalized_p)"
   ]
  },
  {
   "cell_type": "markdown",
   "id": "6de24d87",
   "metadata": {},
   "source": [
    "## Create a 3x3 ndarray. Use fancy indexing to slice out the diagonal elements."
   ]
  },
  {
   "cell_type": "code",
   "execution_count": 7,
   "id": "d7858402",
   "metadata": {},
   "outputs": [],
   "source": [
    "arr = np.array([[1, 2, 3],\n",
    "                [4, 5, 6],\n",
    "                [7, 8, 9]])\n",
    "diagonal = arr[[0, 1, 2], [0, 1, 2]]"
   ]
  },
  {
   "cell_type": "code",
   "execution_count": 8,
   "id": "c993cb8c",
   "metadata": {},
   "outputs": [
    {
     "name": "stdout",
     "output_type": "stream",
     "text": [
      "[1 5 9]\n"
     ]
    }
   ],
   "source": [
    "print(diagonal)"
   ]
  },
  {
   "cell_type": "markdown",
   "id": "24058208",
   "metadata": {},
   "source": [
    "###  Generate a 10 x 3 array of random numbers (all between 0 and 1). From each row, pick the number closest to 0.75. Make use of np.abs and np.argmax to find the column j which contains the closest element in each row."
   ]
  },
  {
   "cell_type": "code",
   "execution_count": 9,
   "id": "4095e720",
   "metadata": {},
   "outputs": [],
   "source": [
    "arr = np.random.rand(10, 3)\n",
    "j = np.abs(arr - 0.75).argmin(axis=1)\n",
    "closest_elements = arr[np.arange(10), j]"
   ]
  },
  {
   "cell_type": "code",
   "execution_count": 10,
   "id": "cd1fe87c",
   "metadata": {},
   "outputs": [
    {
     "data": {
      "text/plain": [
       "array([0.5406553 , 0.91248814, 0.27676267, 0.71602512, 0.93754984,\n",
       "       0.54251333, 0.73226902, 0.69994428, 0.82882035, 0.84045871])"
      ]
     },
     "execution_count": 10,
     "metadata": {},
     "output_type": "execute_result"
    }
   ],
   "source": [
    "closest_elements"
   ]
  },
  {
   "cell_type": "markdown",
   "id": "530e980c",
   "metadata": {},
   "source": [
    "### predict and verify the shape of the following slicing operation."
   ]
  },
  {
   "cell_type": "code",
   "execution_count": 11,
   "id": "d576bee0",
   "metadata": {},
   "outputs": [
    {
     "data": {
      "text/plain": [
       "array([[4.0474e-320, 4.0474e-320, 4.0474e-320, 4.0474e-320, 4.0474e-320,\n",
       "        4.0474e-320, 4.0474e-320, 4.0474e-320],\n",
       "       [4.0474e-320, 4.0474e-320, 4.0474e-320, 4.0474e-320, 4.0474e-320,\n",
       "        4.0474e-320, 4.0474e-320, 4.0474e-320],\n",
       "       [4.0474e-320, 4.0474e-320, 4.0474e-320, 4.0474e-320, 4.0474e-320,\n",
       "        4.0474e-320, 4.0474e-320, 4.0474e-320]])"
      ]
     },
     "execution_count": 11,
     "metadata": {},
     "output_type": "execute_result"
    }
   ],
   "source": [
    "x = np.empty((10, 8, 6))\n",
    "\n",
    "idx0 = np.zeros((3, 8)).astype(int)\n",
    "idx1 = np.zeros((3, 1)).astype(int)\n",
    "idx2 = np.zeros((1, 1)).astype(int)\n",
    "\n",
    "x[idx0, idx1, idx2]"
   ]
  },
  {
   "cell_type": "code",
   "execution_count": null,
   "id": "c888a499",
   "metadata": {},
   "outputs": [],
   "source": []
  },
  {
   "cell_type": "code",
   "execution_count": null,
   "id": "834f706c",
   "metadata": {},
   "outputs": [],
   "source": []
  },
  {
   "cell_type": "code",
   "execution_count": null,
   "id": "1555aa38",
   "metadata": {},
   "outputs": [],
   "source": []
  },
  {
   "cell_type": "code",
   "execution_count": null,
   "id": "ea8374c4",
   "metadata": {},
   "outputs": [],
   "source": []
  }
 ],
 "metadata": {
  "kernelspec": {
   "display_name": "Python 3 (ipykernel)",
   "language": "python",
   "name": "python3"
  },
  "language_info": {
   "codemirror_mode": {
    "name": "ipython",
    "version": 3
   },
   "file_extension": ".py",
   "mimetype": "text/x-python",
   "name": "python",
   "nbconvert_exporter": "python",
   "pygments_lexer": "ipython3",
   "version": "3.9.15"
  }
 },
 "nbformat": 4,
 "nbformat_minor": 5
}

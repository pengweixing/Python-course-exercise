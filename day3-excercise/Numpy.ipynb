{
 "cells": [
  {
   "cell_type": "code",
   "execution_count": 14,
   "id": "b11d6332",
   "metadata": {},
   "outputs": [],
   "source": [
    "import numpy as np"
   ]
  },
  {
   "cell_type": "markdown",
   "id": "521e7d66",
   "metadata": {},
   "source": [
    "## Create a null vector of size 10 but the fifth value which is 1"
   ]
  },
  {
   "cell_type": "code",
   "execution_count": 15,
   "id": "851ffa86",
   "metadata": {},
   "outputs": [],
   "source": [
    "null_vector = np.zeros(10)\n",
    "null_vector[4] = 1"
   ]
  },
  {
   "cell_type": "markdown",
   "id": "92755e8d",
   "metadata": {},
   "source": [
    "## Create a vector with values ranging from 10 to 49"
   ]
  },
  {
   "cell_type": "code",
   "execution_count": 16,
   "id": "dd95673c",
   "metadata": {},
   "outputs": [],
   "source": [
    "my_vector = np.arange(10, 50)"
   ]
  },
  {
   "cell_type": "markdown",
   "id": "2745d15c",
   "metadata": {},
   "source": [
    "## Reverse a vector (first element becomes last)\n"
   ]
  },
  {
   "cell_type": "code",
   "execution_count": 17,
   "id": "929ea878",
   "metadata": {},
   "outputs": [
    {
     "data": {
      "text/plain": [
       "array([49, 48, 47, 46, 45, 44, 43, 42, 41, 40, 39, 38, 37, 36, 35, 34, 33,\n",
       "       32, 31, 30, 29, 28, 27, 26, 25, 24, 23, 22, 21, 20, 19, 18, 17, 16,\n",
       "       15, 14, 13, 12, 11, 10])"
      ]
     },
     "execution_count": 17,
     "metadata": {},
     "output_type": "execute_result"
    }
   ],
   "source": [
    " my_vector[::-1]"
   ]
  },
  {
   "cell_type": "markdown",
   "id": "c3b7acf0",
   "metadata": {},
   "source": [
    "##  Create a 3x3 matrix with values ranging from 0 to 8"
   ]
  },
  {
   "cell_type": "code",
   "execution_count": 18,
   "id": "754f9ab7",
   "metadata": {},
   "outputs": [
    {
     "data": {
      "text/plain": [
       "array([[0, 1, 2],\n",
       "       [3, 4, 5],\n",
       "       [6, 7, 8]])"
      ]
     },
     "execution_count": 18,
     "metadata": {},
     "output_type": "execute_result"
    }
   ],
   "source": [
    "np.arange(9).reshape(3, 3)"
   ]
  },
  {
   "cell_type": "markdown",
   "id": "735e7d38",
   "metadata": {},
   "source": [
    "## Find indices of non-zero elements from [1,2,0,0,4,0]"
   ]
  },
  {
   "cell_type": "code",
   "execution_count": 19,
   "id": "85ff7ab4",
   "metadata": {},
   "outputs": [
    {
     "data": {
      "text/plain": [
       "(array([0, 1, 4]),)"
      ]
     },
     "execution_count": 19,
     "metadata": {},
     "output_type": "execute_result"
    }
   ],
   "source": [
    "np.nonzero((np.array([1, 2, 0, 0, 4, 0])))"
   ]
  },
  {
   "cell_type": "markdown",
   "id": "8e4cc563",
   "metadata": {},
   "source": [
    "## Create a random vector of size 30 and find the mean value"
   ]
  },
  {
   "cell_type": "code",
   "execution_count": 20,
   "id": "33ca97cc",
   "metadata": {},
   "outputs": [
    {
     "data": {
      "text/plain": [
       "0.5273727216441876"
      ]
     },
     "execution_count": 20,
     "metadata": {},
     "output_type": "execute_result"
    }
   ],
   "source": [
    "my_vector = np.random.rand(30)\n",
    "np.mean(my_vector)"
   ]
  },
  {
   "cell_type": "markdown",
   "id": "77a424cb",
   "metadata": {},
   "source": [
    "## Create a 2d array with 1 on the border and 0 inside"
   ]
  },
  {
   "cell_type": "code",
   "execution_count": 21,
   "id": "e285ec8b",
   "metadata": {},
   "outputs": [],
   "source": [
    "my_matrix = np.ones((5, 5))\n",
    "my_matrix[1:-1, 1:-1] = 0"
   ]
  },
  {
   "cell_type": "markdown",
   "id": "536d485f",
   "metadata": {},
   "source": [
    "## Create a 8x8 matrix and fill it with a checkerboard pattern\n"
   ]
  },
  {
   "cell_type": "code",
   "execution_count": 23,
   "id": "d701ffe5",
   "metadata": {},
   "outputs": [],
   "source": [
    "my_matrix = np.zeros((8, 8))\n",
    "my_matrix[::2, ::2] = 1\n",
    "my_matrix[1::2, 1::2] = 1"
   ]
  },
  {
   "cell_type": "code",
   "execution_count": 24,
   "id": "9f38d720",
   "metadata": {},
   "outputs": [
    {
     "data": {
      "text/plain": [
       "array([[1., 0., 1., 0., 1., 0., 1., 0.],\n",
       "       [0., 1., 0., 1., 0., 1., 0., 1.],\n",
       "       [1., 0., 1., 0., 1., 0., 1., 0.],\n",
       "       [0., 1., 0., 1., 0., 1., 0., 1.],\n",
       "       [1., 0., 1., 0., 1., 0., 1., 0.],\n",
       "       [0., 1., 0., 1., 0., 1., 0., 1.],\n",
       "       [1., 0., 1., 0., 1., 0., 1., 0.],\n",
       "       [0., 1., 0., 1., 0., 1., 0., 1.]])"
      ]
     },
     "execution_count": 24,
     "metadata": {},
     "output_type": "execute_result"
    }
   ],
   "source": [
    "my_matrix"
   ]
  },
  {
   "cell_type": "markdown",
   "id": "0ed8048e",
   "metadata": {},
   "source": [
    "## Create a checkerboard 8x8 matrix using the tile function"
   ]
  },
  {
   "cell_type": "code",
   "execution_count": 25,
   "id": "26b1ae53",
   "metadata": {},
   "outputs": [
    {
     "data": {
      "text/plain": [
       "array([[0, 1, 0, 1, 0, 1, 0, 1],\n",
       "       [1, 0, 1, 0, 1, 0, 1, 0],\n",
       "       [0, 1, 0, 1, 0, 1, 0, 1],\n",
       "       [1, 0, 1, 0, 1, 0, 1, 0],\n",
       "       [0, 1, 0, 1, 0, 1, 0, 1],\n",
       "       [1, 0, 1, 0, 1, 0, 1, 0],\n",
       "       [0, 1, 0, 1, 0, 1, 0, 1],\n",
       "       [1, 0, 1, 0, 1, 0, 1, 0]])"
      ]
     },
     "execution_count": 25,
     "metadata": {},
     "output_type": "execute_result"
    }
   ],
   "source": [
    "checkerboard = np.array([[0, 1], [1, 0]])\n",
    "my_matrix = np.tile(checkerboard, (4, 4))\n",
    "my_matrix"
   ]
  },
  {
   "cell_type": "markdown",
   "id": "eacf7532",
   "metadata": {},
   "source": [
    "## Given a 1D array, negate all elements which are between 3 and 8, in place\n"
   ]
  },
  {
   "cell_type": "code",
   "execution_count": 27,
   "id": "8ed97be3",
   "metadata": {},
   "outputs": [
    {
     "data": {
      "text/plain": [
       "array([ 0,  1,  2, -3, -4, -5, -6, -7, -8,  9, 10])"
      ]
     },
     "execution_count": 27,
     "metadata": {},
     "output_type": "execute_result"
    }
   ],
   "source": [
    "Z = np.arange(11)\n",
    "\n",
    "# Find the indices of elements between 3 and 8\n",
    "idx = np.where((Z >= 3) & (Z <= 8))\n",
    "\n",
    "# Negate the elements between 3 and 8 in-place\n",
    "Z[idx] = -Z[idx]\n",
    "Z"
   ]
  },
  {
   "cell_type": "markdown",
   "id": "fd6c880c",
   "metadata": {},
   "source": [
    "## Create a random vector of size 10 Z = np.random.random(10) and sort it"
   ]
  },
  {
   "cell_type": "code",
   "execution_count": 28,
   "id": "a84a9432",
   "metadata": {},
   "outputs": [],
   "source": [
    "Z = np.random.random(10)\n",
    "Z.sort()"
   ]
  },
  {
   "cell_type": "markdown",
   "id": "2baa44a1",
   "metadata": {},
   "source": [
    "## Consider two random array A anb B, check if they are equal"
   ]
  },
  {
   "cell_type": "code",
   "execution_count": 29,
   "id": "186f1303",
   "metadata": {},
   "outputs": [
    {
     "name": "stdout",
     "output_type": "stream",
     "text": [
      "[0 0 0 0 0]\n",
      "[1 1 1 1 0]\n",
      "Arrays A and B are not equal\n"
     ]
    }
   ],
   "source": [
    "A = np.random.randint(0, 2, 5)\n",
    "B = np.random.randint(0, 2, 5)\n",
    "\n",
    "print(A)\n",
    "print(B)\n",
    "\n",
    "if np.array_equal(A, B):\n",
    "    print(\"Arrays A and B are equal\")\n",
    "else:\n",
    "    print(\"Arrays A and B are not equal\")"
   ]
  },
  {
   "cell_type": "markdown",
   "id": "48365845",
   "metadata": {},
   "source": [
    "## How to convert an integer (32 bits) array into a float (32 bits) in place?"
   ]
  },
  {
   "cell_type": "code",
   "execution_count": 30,
   "id": "6814dc39",
   "metadata": {},
   "outputs": [
    {
     "name": "stdout",
     "output_type": "stream",
     "text": [
      "[0.0e+00 1.4e-45 2.8e-45 4.2e-45 5.6e-45 7.0e-45 8.4e-45 9.8e-45 1.1e-44\n",
      " 1.3e-44]\n"
     ]
    }
   ],
   "source": [
    "\n",
    "Z = np.arange(10, dtype=np.int32)\n",
    "\n",
    "Z = Z.view(np.float32)\n",
    "Z[:] = Z.astype(np.float32)\n",
    "\n",
    "print(Z)"
   ]
  },
  {
   "cell_type": "markdown",
   "id": "6a132aad",
   "metadata": {},
   "source": [
    "## How to get the diagonal of a dot product?"
   ]
  },
  {
   "cell_type": "code",
   "execution_count": 31,
   "id": "0ceccd50",
   "metadata": {},
   "outputs": [
    {
     "name": "stdout",
     "output_type": "stream",
     "text": [
      "[ 18  66 132]\n"
     ]
    }
   ],
   "source": [
    "A = np.arange(9).reshape(3,3)\n",
    "B = A + 1\n",
    "C = np.dot(A, B)\n",
    "D = np.diagonal(C)\n",
    "\n",
    "print(D)"
   ]
  },
  {
   "cell_type": "code",
   "execution_count": null,
   "id": "a295eca6",
   "metadata": {},
   "outputs": [],
   "source": []
  },
  {
   "cell_type": "code",
   "execution_count": null,
   "id": "64d95e5d",
   "metadata": {},
   "outputs": [],
   "source": []
  },
  {
   "cell_type": "code",
   "execution_count": null,
   "id": "5c0f52b6",
   "metadata": {},
   "outputs": [],
   "source": []
  }
 ],
 "metadata": {
  "kernelspec": {
   "display_name": "Python 3 (ipykernel)",
   "language": "python",
   "name": "python3"
  },
  "language_info": {
   "codemirror_mode": {
    "name": "ipython",
    "version": 3
   },
   "file_extension": ".py",
   "mimetype": "text/x-python",
   "name": "python",
   "nbconvert_exporter": "python",
   "pygments_lexer": "ipython3",
   "version": "3.9.15"
  }
 },
 "nbformat": 4,
 "nbformat_minor": 5
}
